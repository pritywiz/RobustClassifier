{
 "cells": [
  {
   "cell_type": "markdown",
   "metadata": {},
   "source": [
    "# Machine Learning Engineer Nanodegree\n",
    "## Capstone Project\n",
    "## Robust Classifier using GAN\n",
    "Classifier trained along with *Wasserstein GAN* to make it robust to adversarial examples\n",
    "\n",
    "----\n"
   ]
  },
  {
   "cell_type": "markdown",
   "metadata": {},
   "source": [
    "As more and more applications are using **Deep Neural Nets** and other machine learning models, it is thus meaningful and urgent to increase the local stability towards adversarial examples. It is necessary to decrease the gap between the machines and the human perception, and devise safety mechanism for security–sensitive applications."
   ]
  },
  {
   "cell_type": "markdown",
   "metadata": {},
   "source": [
    "Using a **Generative adversarial network(GAN)**, first introduced by *Ian Goodfellow and others in Yoshua Bengio's lab in 2014*, the classical deep neural network is made robust to adversarial examples. \n",
    "\n",
    "**Generative Adversarial Networks (GANs)** are a powerful class of generative models that cast the generative modeling problem as a game between two adversary networks: the generator network produces synthetic data given some noise source and the discriminator network discriminates between the generator’s output and true data."
   ]
  },
  {
   "cell_type": "markdown",
   "metadata": {},
   "source": [
    "## Get the Data\n",
    "Downloading the data from tensorflow MNIST"
   ]
  },
  {
   "cell_type": "code",
   "execution_count": null,
   "metadata": {
    "collapsed": true
   },
   "outputs": [],
   "source": [
    "%matplotlib inline\n",
    "\n",
    "import pickle as pkl\n",
    "import numpy as np\n",
    "import tensorflow as tf\n",
    "import matplotlib.pyplot as plt"
   ]
  },
  {
   "cell_type": "code",
   "execution_count": null,
   "metadata": {
    "collapsed": false
   },
   "outputs": [],
   "source": [
    "# include other files \n",
    "from utils import plot\n",
    "from utils import sampler\n",
    "import helper\n",
    "import visuals as vs\n"
   ]
  },
  {
   "cell_type": "markdown",
   "metadata": {},
   "source": [
    "## Visualizing the Data\n",
    "Few samples from the MNIST data are used to see the structure of the data"
   ]
  },
  {
   "cell_type": "code",
   "execution_count": null,
   "metadata": {
    "collapsed": false
   },
   "outputs": [],
   "source": [
    "# Extracting the training samples for visualization\n",
    "input_data                 = sampler.DataSampler()    # accessing the MNIST dataset\n",
    "train_images, train_labels = input_data(\"train\")      # Training Samples\n",
    "valid_images, valid_labels = input_data(\"validation\") # Validation Samples\n",
    "test_images, test_labels   = input_data(\"test\")       # Test Samples"
   ]
  },
  {
   "cell_type": "code",
   "execution_count": null,
   "metadata": {
    "collapsed": false
   },
   "outputs": [],
   "source": [
    "print (\"Number of training samples: {}\" .format(train_images.shape[0]))\n",
    "print (\"Number of test samples: {}\" .format(test_images.shape[0]))\n",
    "print (\"Image Height: {}\".format(train_features.shape[2]))\n",
    "print (\"Image Width: {}\".format(train_features.shape[3]))\n",
    "print (\"Number of classes: {}\".format(train_labels.shape[1]))"
   ]
  },
  {
   "cell_type": "markdown",
   "metadata": {},
   "source": [
    "Random images from each class is displayed to visualize the handwritten digits and their labels."
   ]
  },
  {
   "cell_type": "code",
   "execution_count": null,
   "metadata": {
    "collapsed": false
   },
   "outputs": [],
   "source": [
    "# Visualize Samples from each class randomly\n",
    "vs.visualize_mnist(train_images, train_labels)"
   ]
  },
  {
   "cell_type": "markdown",
   "metadata": {},
   "source": [
    "## Normalize\n",
    "The MNIST dataset from Tensorflow Tuturial is normailized in the range of 0 to 1, inclusive. So we will not require to normalize the data. However, due to the reasons of symmetry "
   ]
  },
  {
   "cell_type": "markdown",
   "metadata": {},
   "source": [
    "## Benchmark Model"
   ]
  },
  {
   "cell_type": "markdown",
   "metadata": {},
   "source": [
    "The structure of the Benchmark Model is shown above in the figure. This has already been trained using the MNIST training dataset. The training loss and accuracy and validation loss and accuracy can be visualized by the plot below:"
   ]
  },
  {
   "cell_type": "code",
   "execution_count": null,
   "metadata": {
    "collapsed": false
   },
   "outputs": [],
   "source": [
    "# Pickle file contains the log of the Training and Validation Loss and Accuracy\n",
    "plt.style.use('ggplot')\n",
    "vs.plot_mnist_train(\"./\")"
   ]
  },
  {
   "cell_type": "code",
   "execution_count": null,
   "metadata": {
    "collapsed": false
   },
   "outputs": [],
   "source": [
    "test_images, test_labels = input_data.perturbed()\n",
    "vs.visualize_mnist(test_images, test_labels)"
   ]
  },
  {
   "cell_type": "markdown",
   "metadata": {},
   "source": [
    "## Testing the Benchmark Model Against MNIST Test Dataset\n",
    "The model has already been trained with the accuracy as given above. Here, the model will be tested against MNIST test dataset to determine its accuracy."
   ]
  },
  {
   "cell_type": "code",
   "execution_count": null,
   "metadata": {
    "collapsed": false
   },
   "outputs": [],
   "source": [
    "# Model is restored and tested against MNIST test dataset\n",
    "helper.test_mnist(\"/mnist_model\")"
   ]
  },
  {
   "cell_type": "markdown",
   "metadata": {},
   "source": [
    "## GAN Architecture of the Adversarial Training Model\n",
    "\n",
    "The structure of the Classifier is the same as the Benchmark Model. The structure of the Generator Model is provided below:"
   ]
  },
  {
   "cell_type": "markdown",
   "metadata": {},
   "source": [
    "The structure of the Discriminator Model also known as Critic in case of Wasserstein GAN is provided below:"
   ]
  },
  {
   "cell_type": "markdown",
   "metadata": {},
   "source": [
    "The actual GAN architeture used to train the Classifier to be robust to Adversarial Training is given below:"
   ]
  },
  {
   "cell_type": "markdown",
   "metadata": {},
   "source": [
    "## Visualization of Training of GAN and Robust Classifier"
   ]
  },
  {
   "cell_type": "code",
   "execution_count": null,
   "metadata": {
    "collapsed": false
   },
   "outputs": [],
   "source": [
    "# plot the graph\n",
    "vs.plot_wgan_train(\"./\")"
   ]
  },
  {
   "cell_type": "code",
   "execution_count": null,
   "metadata": {
    "collapsed": true
   },
   "outputs": [],
   "source": [
    "import pickle\n",
    "gen_data = pickle.load( open( \"gen_img.p\", \"rb\" ) )"
   ]
  },
  {
   "cell_type": "code",
   "execution_count": null,
   "metadata": {
    "collapsed": false
   },
   "outputs": [],
   "source": [
    "import numpy as np\n",
    "gen_images = np.reshape(np.array(gen_data[\"images\"]), (-1, 1, 32, 32))\n",
    "gen_clabels = np.array(gen_data[\"clabels\"])\n",
    "gen_glabels = np.array(gen_data[\"glabels\"])\n",
    "print(gen_images.shape)\n",
    "vs.visualize_mnist(gen_images, gen_clabels)\n",
    "#plt.imshow(gen_images[0][0], cmap='gray')"
   ]
  },
  {
   "cell_type": "code",
   "execution_count": null,
   "metadata": {
    "collapsed": false
   },
   "outputs": [],
   "source": [
    "print(type(gen_data))"
   ]
  },
  {
   "cell_type": "markdown",
   "metadata": {},
   "source": [
    "## Testing the Robust Classifier Against MNIST Test Dataset\n",
    "The model has already been trained with the accuracy as given above. Here, the model will be tested against MNIST test dataset to determine its accuracy."
   ]
  },
  {
   "cell_type": "code",
   "execution_count": null,
   "metadata": {
    "collapsed": true
   },
   "outputs": [],
   "source": []
  },
  {
   "cell_type": "code",
   "execution_count": null,
   "metadata": {
    "collapsed": true
   },
   "outputs": [],
   "source": [
    "# Model is restored and tested against MNIST test dataset"
   ]
  },
  {
   "cell_type": "markdown",
   "metadata": {},
   "source": [
    "## Using Simple Perturbed Images\n",
    "These images are from the MNIST test dataset but are perturbed by randomly changing a pixel value in the image with zero(0). Both the models are tested against these images."
   ]
  },
  {
   "cell_type": "markdown",
   "metadata": {},
   "source": [
    "### Visualize Perturbed Images\n",
    "Creating and Visualizing Perturbed Images from MNIST Test dataset"
   ]
  },
  {
   "cell_type": "code",
   "execution_count": null,
   "metadata": {
    "collapsed": false
   },
   "outputs": [],
   "source": [
    "#import cv2\n",
    "\n",
    "test_images, test_labels = mnist.test.images, mnist.test.labels\n",
    "num_classes = 10\n",
    "num_images = 5\n",
    "fig = plt.figure(figsize=(16,8))\n",
    "for i in range(num_classes):\n",
    "\n",
    "    index_cur_label = np.where(test_labels[:]==i)[0]\n",
    "    images_cur_label = test_images[index_cur_label,::]\n",
    "    rand_index = np.random.randint(images_cur_label.shape[0], size=(num_images))\n",
    "\n",
    "    images = images_cur_label[rand_index,::]\n",
    "    for j in range(num_images):\n",
    "        ax = fig.add_subplot(num_images, num_classes, i*num_images + (j+1), xticks=[], yticks=[])\n",
    "        ax.set_title(i)\n",
    "        images[j][np.random.randint(images.shape[1], size=(num_images))] = np.random.rand(1)\n",
    "        plt.imshow(images[j].reshape(28,28), cmap='gray')\n",
    "plt.show()"
   ]
  },
  {
   "cell_type": "markdown",
   "metadata": {},
   "source": [
    "### Benchmark Model"
   ]
  },
  {
   "cell_type": "code",
   "execution_count": null,
   "metadata": {
    "collapsed": true
   },
   "outputs": [],
   "source": []
  },
  {
   "cell_type": "markdown",
   "metadata": {},
   "source": [
    "### Robust Classifier"
   ]
  },
  {
   "cell_type": "code",
   "execution_count": null,
   "metadata": {
    "collapsed": true
   },
   "outputs": [],
   "source": []
  },
  {
   "cell_type": "markdown",
   "metadata": {},
   "source": [
    "## Generating Images from WGAN"
   ]
  },
  {
   "cell_type": "code",
   "execution_count": null,
   "metadata": {
    "collapsed": true
   },
   "outputs": [],
   "source": []
  },
  {
   "cell_type": "markdown",
   "metadata": {},
   "source": [
    "### Benchmark Model"
   ]
  },
  {
   "cell_type": "code",
   "execution_count": null,
   "metadata": {
    "collapsed": true
   },
   "outputs": [],
   "source": []
  },
  {
   "cell_type": "markdown",
   "metadata": {},
   "source": [
    "### Robust Classifier"
   ]
  },
  {
   "cell_type": "markdown",
   "metadata": {},
   "source": []
  },
  {
   "cell_type": "markdown",
   "metadata": {},
   "source": [
    "## Testing Robust Classifier Against Samples Generated by GAN in different Epochs"
   ]
  },
  {
   "cell_type": "code",
   "execution_count": null,
   "metadata": {
    "collapsed": true
   },
   "outputs": [],
   "source": []
  },
  {
   "cell_type": "markdown",
   "metadata": {},
   "source": [
    "## Conclusion"
   ]
  },
  {
   "cell_type": "code",
   "execution_count": null,
   "metadata": {
    "collapsed": false
   },
   "outputs": [],
   "source": [
    "from PIL import Image\n",
    "#Image(\"sample_0_1_0.png\")\n",
    "\n",
    "im = np.array(Image.open('sample_0_1_0.png'))\n",
    "print(im[6])\n",
    "plt.imshow(im[2:30,2:30]/255, cmap='gray')\n",
    "print(im[2:30,2:30].shape)\n",
    "im = (im[2:30,2:30])/255\n",
    "#im = im.reshape(28,28,3)\n",
    "#print(im.shape)\n"
   ]
  },
  {
   "cell_type": "code",
   "execution_count": null,
   "metadata": {
    "collapsed": false
   },
   "outputs": [],
   "source": [
    "plt.imshow(im, cmap='gray')\n",
    "plt.show()\n",
    "#print(mnist.train.images[9])"
   ]
  },
  {
   "cell_type": "code",
   "execution_count": null,
   "metadata": {
    "collapsed": true
   },
   "outputs": [],
   "source": [
    "import matplotlib\n",
    "matplotlib.use('Agg')\n",
    "\n",
    "import matplotlib.pyplot as plt\n",
    "\n",
    "import tensorflow as tf\n",
    "import numpy as np\n",
    "import tensorflow.contrib.layers as ly\n",
    "from tensorflow.examples.tutorials.mnist import input_data\n",
    "train_img, train_label = mnist.train.next_batch(64)"
   ]
  },
  {
   "cell_type": "code",
   "execution_count": null,
   "metadata": {
    "collapsed": false
   },
   "outputs": [],
   "source": [
    "from IPython.display import display\n",
    "train_img, train_label = mnist.train.next_batch(64)\n",
    "#print (train_img[5][100:])\n",
    "train_img = 2 * train_img - 1\n",
    "\n",
    "train_img = np.reshape(train_img, (-1, 1, 28, 28))\n",
    "npad = ((0, 0), (0, 0), (2, 2), (2, 2))\n",
    "#print(train_img[0][0][10][:])\n",
    "train_img = np.pad(train_img, pad_width=npad, mode='constant', constant_values=-1)\n",
    "#display(train_img[5][0][7:])\n",
    "print(train_img.shape)\n",
    "plt.imshow(train_img[5][0], cmap='gray')"
   ]
  },
  {
   "cell_type": "code",
   "execution_count": null,
   "metadata": {
    "collapsed": false
   },
   "outputs": [],
   "source": [
    "plt.imshow(train_img[5][0], cmap='gray')"
   ]
  },
  {
   "cell_type": "code",
   "execution_count": null,
   "metadata": {
    "collapsed": true
   },
   "outputs": [],
   "source": [
    "def test(test_num=10):\n",
    "    dataset = input_data.read_data_sets('MNIST_data', one_hot=True)\n",
    "    def next_feed_dict():\n",
    "        test_img = dataset.test.images\n",
    "        test_img = 2 * test_img - 1\n",
    "\n",
    "        test_img = np.reshape(test_img, (-1, channel, 28, 28))\n",
    "        npad = ((0, 0), (0, 0), (2, 2), (2, 2))\n",
    "        test_img = np.pad(test_img, pad_width=npad,\n",
    "                           mode='constant', constant_values=-1)\n",
    "\n",
    "\n",
    "        feed_dict = {loaded_x: test_img, loaded_y: dataset.test.labels}\n",
    "        return feed_dict\n",
    "\n",
    "    loaded_graph = tf.Graph()\n",
    "\n",
    "    with tf.Session(graph=loaded_graph) as sess:\n",
    "        loader = tf.train.import_meta_graph('/input/model.ckpt.meta')\n",
    "        loader.restore(sess, '/input/model.ckpt')\n",
    "        print(\"Model restored.\")\n",
    "\n",
    "        # Get Tensors from loaded model\n",
    "        loaded_x = loaded_graph.get_tensor_by_name('X:0')\n",
    "        loaded_y = loaded_graph.get_tensor_by_name('y:0')\n",
    "        loaded_logits = loaded_graph.get_tensor_by_name('logits:0')\n",
    "        loaded_acc = loaded_graph.get_tensor_by_name('accuracy:0')       \n",
    "\n",
    "\n",
    "        acc = sess.run(loaded_acc, feed_dict=next_feed_dict())\n",
    "        print('Testing Accuracy: {}\\n'.format(acc))\n"
   ]
  }
 ],
 "metadata": {
  "kernelspec": {
   "display_name": "Python 3",
   "language": "python",
   "name": "python3"
  },
  "language_info": {
   "codemirror_mode": {
    "name": "ipython",
    "version": 3
   },
   "file_extension": ".py",
   "mimetype": "text/x-python",
   "name": "python",
   "nbconvert_exporter": "python",
   "pygments_lexer": "ipython3",
   "version": "3.5.1"
  }
 },
 "nbformat": 4,
 "nbformat_minor": 0
}
